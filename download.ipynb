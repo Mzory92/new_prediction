{
 "cells": [
  {
   "cell_type": "code",
   "id": "initial_id",
   "metadata": {
    "collapsed": true,
    "ExecuteTime": {
     "end_time": "2025-08-22T07:18:03.352581Z",
     "start_time": "2025-08-22T07:18:02.932493Z"
    }
   },
   "source": [
    "import MetaTrader5 as mt5\n",
    "import pandas as pd\n",
    "from datetime import datetime\n",
    "\n",
    "# Connect to MetaTrader 5\n",
    "if not mt5.initialize():\n",
    "    print(\"Initialization failed:\", mt5.last_error())\n",
    "    quit()\n",
    "\n",
    "# Set symbol and timeframe\n",
    "symbol = \"EURUSD\"\n",
    "timeframe = mt5.TIMEFRAME_H1\n",
    "num_bars = 99999\n",
    "\n",
    "# Request data\n",
    "rates = mt5.copy_rates_from_pos(symbol, timeframe, 0, num_bars)\n",
    "\n",
    "# Shut down connection\n",
    "\n",
    "mt5.shutdown()\n",
    "\n",
    "# Convert to DataFrame\n",
    "df = pd.DataFrame(rates)\n",
    "#df['time'] = pd.to_datetime(df['time'], unit='s')\n",
    "#df = df.iloc[: , :-1]\n",
    "#df['Date'] = pd.to_datetime(df['time']).dt.strftime('%Y%m%d').astype(int)  # Convert to YYYYMMDD integer\n",
    "#df['Time'] = pd.to_datetime(df['time']).dt.strftime('%H%M').astype(int)\n",
    "\n",
    "print(df)\n",
    "\n",
    "# Optional: Save to CSV\n",
    "df.to_csv(\"EURH1.csv\")"
   ],
   "outputs": [
    {
     "name": "stdout",
     "output_type": "stream",
     "text": [
      "             time     open     high      low    close  tick_volume  spread  \\\n",
      "0      1247252400  1.39558  1.39724  1.39470  1.39523         3353      20   \n",
      "1      1247256000  1.39526  1.39585  1.39337  1.39475         2197      20   \n",
      "2      1247259600  1.39473  1.39563  1.39455  1.39478         2148      20   \n",
      "3      1247263200  1.39476  1.39518  1.39347  1.39353          929      20   \n",
      "4      1247443200  1.39461  1.39683  1.39460  1.39660          723      20   \n",
      "...           ...      ...      ...      ...      ...          ...     ...   \n",
      "99994  1755842400  1.16079  1.16082  1.15880  1.15889         2299      15   \n",
      "99995  1755846000  1.15891  1.15932  1.15821  1.15835         1895      15   \n",
      "99996  1755849600  1.15837  1.15882  1.15825  1.15859         1742      15   \n",
      "99997  1755853200  1.15859  1.15943  1.15826  1.15878         3207      15   \n",
      "99998  1755856800  1.15881  1.15981  1.15876  1.15965         1191      15   \n",
      "\n",
      "       real_volume  \n",
      "0                0  \n",
      "1                0  \n",
      "2                0  \n",
      "3                0  \n",
      "4                0  \n",
      "...            ...  \n",
      "99994            0  \n",
      "99995            0  \n",
      "99996            0  \n",
      "99997            0  \n",
      "99998            0  \n",
      "\n",
      "[99999 rows x 8 columns]\n"
     ]
    }
   ],
   "execution_count": 13
  }
 ],
 "metadata": {
  "kernelspec": {
   "display_name": "Python 3",
   "language": "python",
   "name": "python3"
  },
  "language_info": {
   "codemirror_mode": {
    "name": "ipython",
    "version": 2
   },
   "file_extension": ".py",
   "mimetype": "text/x-python",
   "name": "python",
   "nbconvert_exporter": "python",
   "pygments_lexer": "ipython2",
   "version": "2.7.6"
  }
 },
 "nbformat": 4,
 "nbformat_minor": 5
}
